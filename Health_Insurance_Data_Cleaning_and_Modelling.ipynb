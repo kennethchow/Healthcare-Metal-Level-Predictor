{
 "cells": [
  {
   "cell_type": "markdown",
   "metadata": {},
   "source": [
    "##### Imports and functions"
   ]
  },
  {
   "cell_type": "code",
   "execution_count": 1,
   "metadata": {
    "collapsed": true
   },
   "outputs": [],
   "source": [
    "from sqlalchemy import create_engine\n",
    "import pandas as pd\n",
    "import numpy as np\n",
    "import matplotlib.pyplot as plt\n",
    "from sklearn.preprocessing import label_binarize\n",
    "from sklearn.multiclass import OneVsRestClassifier\n",
    "from sklearn import svm\n",
    "from sklearn.model_selection import train_test_split\n",
    "from sklearn.model_selection import cross_val_score\n",
    "from sklearn.linear_model import LinearRegression\n",
    "from sklearn.linear_model import LogisticRegression\n",
    "from sklearn.neighbors import KNeighborsClassifier\n",
    "from sklearn.naive_bayes import GaussianNB\n",
    "from sklearn.svm import SVC\n",
    "from sklearn.tree import DecisionTreeClassifier\n",
    "from sklearn.ensemble import RandomForestClassifier\n",
    "from sklearn.metrics import accuracy_score\n",
    "from sklearn.metrics import precision_score\n",
    "from sklearn.metrics import roc_auc_score\n",
    "from sklearn.metrics import recall_score\n",
    "from sklearn.metrics import f1_score\n",
    "from sklearn.metrics import roc_curve\n",
    "from sklearn.metrics import auc\n",
    "from sklearn.model_selection import learning_curve\n",
    "from sklearn.model_selection import ShuffleSplit\n",
    "import warnings\n",
    "warnings.filterwarnings('ignore')\n",
    "%matplotlib inline"
   ]
  },
  {
   "cell_type": "code",
   "execution_count": 2,
   "metadata": {
    "collapsed": false
   },
   "outputs": [],
   "source": [
    "def get_metrics(modellist, X, y):\n",
    "    for model in modellist:\n",
    "        X_test, X_train, y_test, y_train = train_test_split(X,y, test_size=0.3)\n",
    "        model.fit(X_train,y_train)\n",
    "        score = model.score(X_test, y_test)\n",
    "        pred = model.predict(X_test)\n",
    "        accuracy = accuracy_score(y_test, pred)\n",
    "        precision = precision_score(y_test, pred, average = 'weighted')\n",
    "        recall = recall_score(y_test, pred, average= 'weighted')\n",
    "        f1 = f1_score(y_test, pred, average = 'weighted')\n",
    "        print('Score for', str(model)[:22],':',score)\n",
    "        print('Accuracy for', str(model)[:22], ':', accuracy)\n",
    "        print('Precision for', str(model)[:22], ':', precision)\n",
    "        print('Recall for', str(model)[:22], ':', recall)\n",
    "        print('F1 for', str(model)[:22], ':', f1)\n",
    "\n",
    "def get_scores_predict(modellist, X, y):\n",
    "    X_test, X_train, y_test, y_train = train_test_split(X,y, test_size=0.3)\n",
    "    for model in modellist:\n",
    "        model.fit(X_train,y_train)\n",
    "        score = model.score(X_test, y_test)\n",
    "        print('Score for', str(model)[:22],':',score)\n",
    "\n",
    "def combine_diseases(col):\n",
    "    for disease in col:\n",
    "        diseasesmanaged.add(disease)\n",
    "\n",
    "def map_disease(l, disease):\n",
    "    if disease in l:\n",
    "        return 1\n",
    "    else:\n",
    "        return 0"
   ]
  },
  {
   "cell_type": "markdown",
   "metadata": {},
   "source": [
    "#### Initialise SQL query engine to AWS"
   ]
  },
  {
   "cell_type": "code",
   "execution_count": 3,
   "metadata": {
    "collapsed": false
   },
   "outputs": [],
   "source": [
    "cnx = create_engine('postgresql://kenny@34.203.14.69:5432/mcnulty')"
   ]
  },
  {
   "cell_type": "markdown",
   "metadata": {},
   "source": [
    "#### Pulling Medical Plan Attributes Table from psql Database"
   ]
  },
  {
   "cell_type": "code",
   "execution_count": null,
   "metadata": {
    "collapsed": false
   },
   "outputs": [],
   "source": [
    "planattmeddf = pd.read_sql_query('''SELECT IssuerActuarialValue,\n",
    "                                    CSRVariationType,\n",
    "                                    DentalOnlyPlan,\n",
    "                                    DiseaseManagementProgramsOffered,\n",
    "                                    FirstTierUtilization,\n",
    "                                    IsHSAEligible,\n",
    "                                    IsNewPlan,\n",
    "                                    IsNoticeRequiredForPregnancy,\n",
    "                                    IsReferralRequiredForSpecialist,\n",
    "                                    MarketCoverage,\n",
    "                                    MedicalDrugDeductiblesIntegrated,\n",
    "                                    MedicalDrugMaximumOutofPocketIntegrated,\n",
    "                                    MetalLevel,\n",
    "                                    PlanId,\n",
    "                                    PlanType,\n",
    "                                    StateCode,\n",
    "                                    WellnessProgramOffered\n",
    "                                    FROM planattributes\n",
    "                                    WHERE DentalOnlyPlan = 'No'AND IssuerActuarialValue IS NOT NULL\n",
    "                                    ''', cnx)"
   ]
  },
  {
   "cell_type": "markdown",
   "metadata": {},
   "source": [
    "#### Data Cleaning for Usability in Classification Models"
   ]
  },
  {
   "cell_type": "code",
   "execution_count": 14,
   "metadata": {
    "collapsed": false
   },
   "outputs": [],
   "source": [
    "planattmeddf.firsttierutilization = planattmeddf.firsttierutilization.map(lambda x: float(x.rstrip('%')))\n",
    "planattmeddf.issueractuarialvalue = planattmeddf.issueractuarialvalue.map(lambda x: float(x.rstrip('%')))\n",
    "planattmeddf.isnoticerequiredforpregnancy = planattmeddf.isnoticerequiredforpregnancy.replace('NO','No')"
   ]
  },
  {
   "cell_type": "code",
   "execution_count": 16,
   "metadata": {
    "collapsed": true
   },
   "outputs": [],
   "source": [
    "planattmeddf = planattmeddf.dropna()\n",
    "\n",
    "diseasesmanaged = set()\n",
    "\n",
    "planattmeddf.diseasemanagementprogramsoffered = planattmeddf.diseasemanagementprogramsoffered.map(lambda x: x.split(','))\n",
    "\n",
    "planattmeddf.diseasemanagementprogramsoffered.apply(combine_diseases)"
   ]
  },
  {
   "cell_type": "code",
   "execution_count": 138,
   "metadata": {
    "collapsed": false
   },
   "outputs": [
    {
     "data": {
      "text/plain": [
       "Index(['issueractuarialvalue', 'csrvariationtype', 'dentalonlyplan',\n",
       "       'diseasemanagementprogramsoffered', 'firsttierutilization',\n",
       "       'ishsaeligible', 'isnewplan', 'isnoticerequiredforpregnancy',\n",
       "       'isreferralrequiredforspecialist', 'marketcoverage',\n",
       "       'medicaldrugdeductiblesintegrated',\n",
       "       'medicaldrugmaximumoutofpocketintegrated', 'metallevel', 'planid',\n",
       "       'plantype', 'statecode', 'wellnessprogramoffered', ' Diabetes',\n",
       "       'Asthma', ' Asthma', '  Pain Management', 'Diabetes', 'Depression',\n",
       "       ' Weight Loss Programs', ' Heart Disease', ' Pain Management',\n",
       "       ' High Blood Pressure & High Cholesterol', '  Diabetes', ' Depression',\n",
       "       'Heart Disease', ' Pregnancy', ' Low Back Pain', 'Pregnancy',\n",
       "       'combdiabetes', 'combPregnancy', 'combAsthma'],\n",
       "      dtype='object')"
      ]
     },
     "execution_count": 138,
     "metadata": {},
     "output_type": "execute_result"
    }
   ],
   "source": [
    "planattmeddf.columns"
   ]
  },
  {
   "cell_type": "markdown",
   "metadata": {},
   "source": [
    "Creating Dummy Variables for specific fields"
   ]
  },
  {
   "cell_type": "code",
   "execution_count": 21,
   "metadata": {
    "collapsed": false,
    "scrolled": true
   },
   "outputs": [],
   "source": [
    "for disease in diseasesmanaged:\n",
    "    planattmeddf[disease] = planattmeddf.diseasemanagementprogramsoffered.map(lambda x: map_disease(x, disease))"
   ]
  },
  {
   "cell_type": "code",
   "execution_count": 22,
   "metadata": {
    "collapsed": false
   },
   "outputs": [],
   "source": [
    "planattmeddf['combdiabetes']=planattmeddf.iloc[:,20]+planattmeddf.iloc[:,21]+planattmeddf.iloc[:,22]\n",
    "\n",
    "planattmeddf['combPregnancy'] = planattmeddf.iloc[:,25]+planattmeddf.iloc[:,27]\n",
    "\n",
    "planattmeddf['combAsthma'] = planattmeddf.iloc[:,18]+planattmeddf.iloc[:,23]"
   ]
  },
  {
   "cell_type": "code",
   "execution_count": 25,
   "metadata": {
    "collapsed": false,
    "scrolled": false
   },
   "outputs": [],
   "source": [
    "csrdf = pd.get_dummies(planattmeddf.csrvariationtype)"
   ]
  },
  {
   "cell_type": "code",
   "execution_count": 26,
   "metadata": {
    "collapsed": false
   },
   "outputs": [],
   "source": [
    "#Flat df + csrdummy\n",
    "padf = pd.concat([planattmeddf, csrdf], axis=1)"
   ]
  },
  {
   "cell_type": "code",
   "execution_count": 225,
   "metadata": {
    "collapsed": false
   },
   "outputs": [],
   "source": [
    "padf.ishsaeligible = padf.ishsaeligible.replace(['Yes','No'],['IsHsaEligYes','IsHsaEligNo'])"
   ]
  },
  {
   "cell_type": "code",
   "execution_count": 27,
   "metadata": {
    "collapsed": false
   },
   "outputs": [],
   "source": [
    "ishsadf = pd.get_dummies(padf.ishsaeligible)"
   ]
  },
  {
   "cell_type": "code",
   "execution_count": 28,
   "metadata": {
    "collapsed": false
   },
   "outputs": [],
   "source": [
    "#CSR dummy+isHSA df\n",
    "padf2 = pd.concat([padf, ishsadf], axis=1)"
   ]
  },
  {
   "cell_type": "code",
   "execution_count": 238,
   "metadata": {
    "collapsed": false
   },
   "outputs": [
    {
     "data": {
      "text/plain": [
       "New         19391\n",
       "Existing     9466\n",
       "Name: isnewplan, dtype: int64"
      ]
     },
     "execution_count": 238,
     "metadata": {},
     "output_type": "execute_result"
    }
   ],
   "source": [
    "padf2.isnewplan.value_counts()"
   ]
  },
  {
   "cell_type": "code",
   "execution_count": 239,
   "metadata": {
    "collapsed": false,
    "scrolled": true
   },
   "outputs": [],
   "source": [
    "padf2.isnewplan = padf2.isnewplan.replace(['New','Existing'],['IsNewPlanNew','IsNewPlanExisting'])"
   ]
  },
  {
   "cell_type": "code",
   "execution_count": 29,
   "metadata": {
    "collapsed": false
   },
   "outputs": [],
   "source": [
    "isnewdf = pd.get_dummies(padf2.isnewplan)"
   ]
  },
  {
   "cell_type": "code",
   "execution_count": 30,
   "metadata": {
    "collapsed": false
   },
   "outputs": [],
   "source": [
    "#CSR+isHSA+isNew\n",
    "padf3 = pd.concat([padf2, isnewdf], axis=1)"
   ]
  },
  {
   "cell_type": "code",
   "execution_count": 260,
   "metadata": {
    "collapsed": false
   },
   "outputs": [],
   "source": [
    "padf3.isnoticerequiredforpregnancy = padf3.isnoticerequiredforpregnancy.replace(['Yes','No'],['IsPregYes','IsPregNo'])"
   ]
  },
  {
   "cell_type": "code",
   "execution_count": 261,
   "metadata": {
    "collapsed": false
   },
   "outputs": [],
   "source": [
    "padf3.isreferralrequiredforspecialist = padf3.isreferralrequiredforspecialist.replace(['Yes','No'],['IsSpecialistYes','IsSpecialistNo'])"
   ]
  },
  {
   "cell_type": "code",
   "execution_count": 264,
   "metadata": {
    "collapsed": false
   },
   "outputs": [],
   "source": [
    "padf3.marketcoverage = padf3.marketcoverage.replace(['Individual','SHOP (Small Group)'],['MrktCvrgIndividual','MrktCvrgSHOP'])"
   ]
  },
  {
   "cell_type": "code",
   "execution_count": 32,
   "metadata": {
    "collapsed": false
   },
   "outputs": [],
   "source": [
    "pregdf = pd.get_dummies(padf3.isnoticerequiredforpregnancy)"
   ]
  },
  {
   "cell_type": "code",
   "execution_count": 33,
   "metadata": {
    "collapsed": false
   },
   "outputs": [],
   "source": [
    "specialistdf = pd.get_dummies(padf3.isreferralrequiredforspecialist)"
   ]
  },
  {
   "cell_type": "code",
   "execution_count": 34,
   "metadata": {
    "collapsed": false
   },
   "outputs": [],
   "source": [
    "marketdf = pd.get_dummies(padf3.marketcoverage)"
   ]
  },
  {
   "cell_type": "code",
   "execution_count": 282,
   "metadata": {
    "collapsed": false
   },
   "outputs": [],
   "source": [
    "padf3.medicaldrugdeductiblesintegrated = padf3.medicaldrugdeductiblesintegrated.replace(['MdclDrgIntegratedYes','MdclDrgIntegratedNo'],['DeductiblesIntegratedYes','DeductiblesIntegratedNo']) \n"
   ]
  },
  {
   "cell_type": "code",
   "execution_count": 35,
   "metadata": {
    "collapsed": false
   },
   "outputs": [],
   "source": [
    "mdcldrgintdf = pd.get_dummies(padf3.medicaldrugdeductiblesintegrated)"
   ]
  },
  {
   "cell_type": "code",
   "execution_count": 291,
   "metadata": {
    "collapsed": false
   },
   "outputs": [],
   "source": [
    "padf3.medicaldrugmaximumoutofpocketintegrated = padf2.medicaldrugmaximumoutofpocketintegrated.replace(['Yes','No'],['MOOPIntegratedYes','MOOPIntegratedNo'])"
   ]
  },
  {
   "cell_type": "code",
   "execution_count": 36,
   "metadata": {
    "collapsed": false
   },
   "outputs": [],
   "source": [
    "moopintdf = pd.get_dummies(padf3.medicaldrugmaximumoutofpocketintegrated)"
   ]
  },
  {
   "cell_type": "code",
   "execution_count": 297,
   "metadata": {
    "collapsed": false
   },
   "outputs": [],
   "source": [
    "padf3.plantype = padf3.plantype.replace(['EPO','HMO','POS','PPO'],['plantypeEPO','plantypeHMO','plantypePOS','plantypePPO'])"
   ]
  },
  {
   "cell_type": "code",
   "execution_count": 37,
   "metadata": {
    "collapsed": false
   },
   "outputs": [],
   "source": [
    "plantypedf = pd.get_dummies(padf3.plantype)"
   ]
  },
  {
   "cell_type": "code",
   "execution_count": 38,
   "metadata": {
    "collapsed": false
   },
   "outputs": [],
   "source": [
    "padftest = pd.concat([padf3, pregdf,specialistdf,marketdf,mdcldrgintdf,moopintdf], axis=1)"
   ]
  },
  {
   "cell_type": "code",
   "execution_count": 50,
   "metadata": {
    "collapsed": false
   },
   "outputs": [
    {
     "data": {
      "text/html": [
       "<div>\n",
       "<table border=\"1\" class=\"dataframe\">\n",
       "  <thead>\n",
       "    <tr style=\"text-align: right;\">\n",
       "      <th></th>\n",
       "      <th>Pain Management</th>\n",
       "      <th>Diabetes</th>\n",
       "      <th>Depression</th>\n",
       "      <th>Weight Loss Programs</th>\n",
       "      <th>Heart Disease</th>\n",
       "      <th>Pain Management</th>\n",
       "      <th>High Blood Pressure &amp; High Cholesterol</th>\n",
       "      <th>Diabetes</th>\n",
       "      <th>Depression</th>\n",
       "      <th>Heart Disease</th>\n",
       "    </tr>\n",
       "  </thead>\n",
       "  <tbody>\n",
       "    <tr>\n",
       "      <th>0</th>\n",
       "      <td>0</td>\n",
       "      <td>0</td>\n",
       "      <td>0</td>\n",
       "      <td>0</td>\n",
       "      <td>1</td>\n",
       "      <td>0</td>\n",
       "      <td>1</td>\n",
       "      <td>0</td>\n",
       "      <td>1</td>\n",
       "      <td>0</td>\n",
       "    </tr>\n",
       "    <tr>\n",
       "      <th>1</th>\n",
       "      <td>0</td>\n",
       "      <td>0</td>\n",
       "      <td>0</td>\n",
       "      <td>0</td>\n",
       "      <td>1</td>\n",
       "      <td>0</td>\n",
       "      <td>1</td>\n",
       "      <td>0</td>\n",
       "      <td>1</td>\n",
       "      <td>0</td>\n",
       "    </tr>\n",
       "    <tr>\n",
       "      <th>2</th>\n",
       "      <td>0</td>\n",
       "      <td>0</td>\n",
       "      <td>0</td>\n",
       "      <td>0</td>\n",
       "      <td>0</td>\n",
       "      <td>0</td>\n",
       "      <td>0</td>\n",
       "      <td>0</td>\n",
       "      <td>0</td>\n",
       "      <td>0</td>\n",
       "    </tr>\n",
       "    <tr>\n",
       "      <th>3</th>\n",
       "      <td>0</td>\n",
       "      <td>0</td>\n",
       "      <td>0</td>\n",
       "      <td>0</td>\n",
       "      <td>1</td>\n",
       "      <td>0</td>\n",
       "      <td>1</td>\n",
       "      <td>0</td>\n",
       "      <td>1</td>\n",
       "      <td>0</td>\n",
       "    </tr>\n",
       "    <tr>\n",
       "      <th>4</th>\n",
       "      <td>0</td>\n",
       "      <td>0</td>\n",
       "      <td>0</td>\n",
       "      <td>0</td>\n",
       "      <td>1</td>\n",
       "      <td>0</td>\n",
       "      <td>1</td>\n",
       "      <td>0</td>\n",
       "      <td>1</td>\n",
       "      <td>0</td>\n",
       "    </tr>\n",
       "    <tr>\n",
       "      <th>5</th>\n",
       "      <td>0</td>\n",
       "      <td>0</td>\n",
       "      <td>0</td>\n",
       "      <td>0</td>\n",
       "      <td>1</td>\n",
       "      <td>0</td>\n",
       "      <td>1</td>\n",
       "      <td>0</td>\n",
       "      <td>1</td>\n",
       "      <td>0</td>\n",
       "    </tr>\n",
       "    <tr>\n",
       "      <th>6</th>\n",
       "      <td>0</td>\n",
       "      <td>0</td>\n",
       "      <td>0</td>\n",
       "      <td>0</td>\n",
       "      <td>1</td>\n",
       "      <td>0</td>\n",
       "      <td>1</td>\n",
       "      <td>0</td>\n",
       "      <td>1</td>\n",
       "      <td>0</td>\n",
       "    </tr>\n",
       "    <tr>\n",
       "      <th>7</th>\n",
       "      <td>0</td>\n",
       "      <td>0</td>\n",
       "      <td>0</td>\n",
       "      <td>0</td>\n",
       "      <td>1</td>\n",
       "      <td>0</td>\n",
       "      <td>1</td>\n",
       "      <td>0</td>\n",
       "      <td>1</td>\n",
       "      <td>0</td>\n",
       "    </tr>\n",
       "    <tr>\n",
       "      <th>8</th>\n",
       "      <td>0</td>\n",
       "      <td>0</td>\n",
       "      <td>0</td>\n",
       "      <td>0</td>\n",
       "      <td>1</td>\n",
       "      <td>0</td>\n",
       "      <td>1</td>\n",
       "      <td>0</td>\n",
       "      <td>1</td>\n",
       "      <td>0</td>\n",
       "    </tr>\n",
       "    <tr>\n",
       "      <th>9</th>\n",
       "      <td>0</td>\n",
       "      <td>0</td>\n",
       "      <td>0</td>\n",
       "      <td>0</td>\n",
       "      <td>1</td>\n",
       "      <td>0</td>\n",
       "      <td>1</td>\n",
       "      <td>0</td>\n",
       "      <td>1</td>\n",
       "      <td>0</td>\n",
       "    </tr>\n",
       "    <tr>\n",
       "      <th>10</th>\n",
       "      <td>0</td>\n",
       "      <td>0</td>\n",
       "      <td>0</td>\n",
       "      <td>0</td>\n",
       "      <td>1</td>\n",
       "      <td>0</td>\n",
       "      <td>1</td>\n",
       "      <td>0</td>\n",
       "      <td>1</td>\n",
       "      <td>0</td>\n",
       "    </tr>\n",
       "    <tr>\n",
       "      <th>11</th>\n",
       "      <td>0</td>\n",
       "      <td>0</td>\n",
       "      <td>0</td>\n",
       "      <td>0</td>\n",
       "      <td>0</td>\n",
       "      <td>0</td>\n",
       "      <td>0</td>\n",
       "      <td>0</td>\n",
       "      <td>0</td>\n",
       "      <td>0</td>\n",
       "    </tr>\n",
       "    <tr>\n",
       "      <th>12</th>\n",
       "      <td>0</td>\n",
       "      <td>0</td>\n",
       "      <td>0</td>\n",
       "      <td>0</td>\n",
       "      <td>0</td>\n",
       "      <td>0</td>\n",
       "      <td>0</td>\n",
       "      <td>0</td>\n",
       "      <td>0</td>\n",
       "      <td>0</td>\n",
       "    </tr>\n",
       "    <tr>\n",
       "      <th>13</th>\n",
       "      <td>0</td>\n",
       "      <td>0</td>\n",
       "      <td>0</td>\n",
       "      <td>0</td>\n",
       "      <td>0</td>\n",
       "      <td>0</td>\n",
       "      <td>0</td>\n",
       "      <td>0</td>\n",
       "      <td>0</td>\n",
       "      <td>0</td>\n",
       "    </tr>\n",
       "    <tr>\n",
       "      <th>14</th>\n",
       "      <td>0</td>\n",
       "      <td>0</td>\n",
       "      <td>0</td>\n",
       "      <td>0</td>\n",
       "      <td>0</td>\n",
       "      <td>0</td>\n",
       "      <td>0</td>\n",
       "      <td>0</td>\n",
       "      <td>0</td>\n",
       "      <td>0</td>\n",
       "    </tr>\n",
       "    <tr>\n",
       "      <th>15</th>\n",
       "      <td>0</td>\n",
       "      <td>0</td>\n",
       "      <td>0</td>\n",
       "      <td>0</td>\n",
       "      <td>0</td>\n",
       "      <td>0</td>\n",
       "      <td>0</td>\n",
       "      <td>0</td>\n",
       "      <td>0</td>\n",
       "      <td>0</td>\n",
       "    </tr>\n",
       "    <tr>\n",
       "      <th>16</th>\n",
       "      <td>0</td>\n",
       "      <td>0</td>\n",
       "      <td>0</td>\n",
       "      <td>0</td>\n",
       "      <td>0</td>\n",
       "      <td>0</td>\n",
       "      <td>0</td>\n",
       "      <td>0</td>\n",
       "      <td>0</td>\n",
       "      <td>0</td>\n",
       "    </tr>\n",
       "    <tr>\n",
       "      <th>17</th>\n",
       "      <td>0</td>\n",
       "      <td>0</td>\n",
       "      <td>0</td>\n",
       "      <td>0</td>\n",
       "      <td>0</td>\n",
       "      <td>0</td>\n",
       "      <td>0</td>\n",
       "      <td>0</td>\n",
       "      <td>0</td>\n",
       "      <td>0</td>\n",
       "    </tr>\n",
       "    <tr>\n",
       "      <th>18</th>\n",
       "      <td>0</td>\n",
       "      <td>0</td>\n",
       "      <td>0</td>\n",
       "      <td>0</td>\n",
       "      <td>1</td>\n",
       "      <td>0</td>\n",
       "      <td>1</td>\n",
       "      <td>0</td>\n",
       "      <td>1</td>\n",
       "      <td>0</td>\n",
       "    </tr>\n",
       "    <tr>\n",
       "      <th>19</th>\n",
       "      <td>0</td>\n",
       "      <td>0</td>\n",
       "      <td>0</td>\n",
       "      <td>0</td>\n",
       "      <td>1</td>\n",
       "      <td>0</td>\n",
       "      <td>1</td>\n",
       "      <td>0</td>\n",
       "      <td>1</td>\n",
       "      <td>0</td>\n",
       "    </tr>\n",
       "    <tr>\n",
       "      <th>20</th>\n",
       "      <td>0</td>\n",
       "      <td>0</td>\n",
       "      <td>0</td>\n",
       "      <td>0</td>\n",
       "      <td>1</td>\n",
       "      <td>0</td>\n",
       "      <td>1</td>\n",
       "      <td>0</td>\n",
       "      <td>1</td>\n",
       "      <td>0</td>\n",
       "    </tr>\n",
       "    <tr>\n",
       "      <th>21</th>\n",
       "      <td>0</td>\n",
       "      <td>0</td>\n",
       "      <td>0</td>\n",
       "      <td>0</td>\n",
       "      <td>1</td>\n",
       "      <td>0</td>\n",
       "      <td>1</td>\n",
       "      <td>0</td>\n",
       "      <td>1</td>\n",
       "      <td>0</td>\n",
       "    </tr>\n",
       "    <tr>\n",
       "      <th>22</th>\n",
       "      <td>0</td>\n",
       "      <td>0</td>\n",
       "      <td>0</td>\n",
       "      <td>0</td>\n",
       "      <td>1</td>\n",
       "      <td>0</td>\n",
       "      <td>1</td>\n",
       "      <td>0</td>\n",
       "      <td>1</td>\n",
       "      <td>0</td>\n",
       "    </tr>\n",
       "    <tr>\n",
       "      <th>23</th>\n",
       "      <td>0</td>\n",
       "      <td>0</td>\n",
       "      <td>0</td>\n",
       "      <td>0</td>\n",
       "      <td>1</td>\n",
       "      <td>0</td>\n",
       "      <td>1</td>\n",
       "      <td>0</td>\n",
       "      <td>1</td>\n",
       "      <td>0</td>\n",
       "    </tr>\n",
       "    <tr>\n",
       "      <th>24</th>\n",
       "      <td>0</td>\n",
       "      <td>0</td>\n",
       "      <td>0</td>\n",
       "      <td>0</td>\n",
       "      <td>1</td>\n",
       "      <td>0</td>\n",
       "      <td>1</td>\n",
       "      <td>0</td>\n",
       "      <td>1</td>\n",
       "      <td>0</td>\n",
       "    </tr>\n",
       "    <tr>\n",
       "      <th>25</th>\n",
       "      <td>0</td>\n",
       "      <td>0</td>\n",
       "      <td>0</td>\n",
       "      <td>0</td>\n",
       "      <td>1</td>\n",
       "      <td>0</td>\n",
       "      <td>1</td>\n",
       "      <td>0</td>\n",
       "      <td>1</td>\n",
       "      <td>0</td>\n",
       "    </tr>\n",
       "    <tr>\n",
       "      <th>26</th>\n",
       "      <td>0</td>\n",
       "      <td>0</td>\n",
       "      <td>0</td>\n",
       "      <td>0</td>\n",
       "      <td>1</td>\n",
       "      <td>0</td>\n",
       "      <td>1</td>\n",
       "      <td>0</td>\n",
       "      <td>1</td>\n",
       "      <td>0</td>\n",
       "    </tr>\n",
       "    <tr>\n",
       "      <th>27</th>\n",
       "      <td>0</td>\n",
       "      <td>0</td>\n",
       "      <td>0</td>\n",
       "      <td>0</td>\n",
       "      <td>1</td>\n",
       "      <td>0</td>\n",
       "      <td>1</td>\n",
       "      <td>0</td>\n",
       "      <td>1</td>\n",
       "      <td>0</td>\n",
       "    </tr>\n",
       "    <tr>\n",
       "      <th>28</th>\n",
       "      <td>0</td>\n",
       "      <td>0</td>\n",
       "      <td>0</td>\n",
       "      <td>0</td>\n",
       "      <td>1</td>\n",
       "      <td>0</td>\n",
       "      <td>1</td>\n",
       "      <td>0</td>\n",
       "      <td>1</td>\n",
       "      <td>0</td>\n",
       "    </tr>\n",
       "    <tr>\n",
       "      <th>29</th>\n",
       "      <td>0</td>\n",
       "      <td>0</td>\n",
       "      <td>0</td>\n",
       "      <td>0</td>\n",
       "      <td>1</td>\n",
       "      <td>0</td>\n",
       "      <td>1</td>\n",
       "      <td>0</td>\n",
       "      <td>1</td>\n",
       "      <td>0</td>\n",
       "    </tr>\n",
       "    <tr>\n",
       "      <th>...</th>\n",
       "      <td>...</td>\n",
       "      <td>...</td>\n",
       "      <td>...</td>\n",
       "      <td>...</td>\n",
       "      <td>...</td>\n",
       "      <td>...</td>\n",
       "      <td>...</td>\n",
       "      <td>...</td>\n",
       "      <td>...</td>\n",
       "      <td>...</td>\n",
       "    </tr>\n",
       "    <tr>\n",
       "      <th>30847</th>\n",
       "      <td>0</td>\n",
       "      <td>0</td>\n",
       "      <td>0</td>\n",
       "      <td>0</td>\n",
       "      <td>1</td>\n",
       "      <td>1</td>\n",
       "      <td>1</td>\n",
       "      <td>0</td>\n",
       "      <td>1</td>\n",
       "      <td>0</td>\n",
       "    </tr>\n",
       "    <tr>\n",
       "      <th>30848</th>\n",
       "      <td>0</td>\n",
       "      <td>0</td>\n",
       "      <td>0</td>\n",
       "      <td>0</td>\n",
       "      <td>1</td>\n",
       "      <td>1</td>\n",
       "      <td>1</td>\n",
       "      <td>0</td>\n",
       "      <td>1</td>\n",
       "      <td>0</td>\n",
       "    </tr>\n",
       "    <tr>\n",
       "      <th>30849</th>\n",
       "      <td>0</td>\n",
       "      <td>0</td>\n",
       "      <td>0</td>\n",
       "      <td>0</td>\n",
       "      <td>1</td>\n",
       "      <td>1</td>\n",
       "      <td>1</td>\n",
       "      <td>0</td>\n",
       "      <td>1</td>\n",
       "      <td>0</td>\n",
       "    </tr>\n",
       "    <tr>\n",
       "      <th>30850</th>\n",
       "      <td>0</td>\n",
       "      <td>0</td>\n",
       "      <td>0</td>\n",
       "      <td>0</td>\n",
       "      <td>1</td>\n",
       "      <td>1</td>\n",
       "      <td>1</td>\n",
       "      <td>0</td>\n",
       "      <td>1</td>\n",
       "      <td>0</td>\n",
       "    </tr>\n",
       "    <tr>\n",
       "      <th>30851</th>\n",
       "      <td>0</td>\n",
       "      <td>0</td>\n",
       "      <td>0</td>\n",
       "      <td>0</td>\n",
       "      <td>1</td>\n",
       "      <td>1</td>\n",
       "      <td>1</td>\n",
       "      <td>0</td>\n",
       "      <td>1</td>\n",
       "      <td>0</td>\n",
       "    </tr>\n",
       "    <tr>\n",
       "      <th>30852</th>\n",
       "      <td>0</td>\n",
       "      <td>0</td>\n",
       "      <td>0</td>\n",
       "      <td>0</td>\n",
       "      <td>1</td>\n",
       "      <td>1</td>\n",
       "      <td>1</td>\n",
       "      <td>0</td>\n",
       "      <td>1</td>\n",
       "      <td>0</td>\n",
       "    </tr>\n",
       "    <tr>\n",
       "      <th>30853</th>\n",
       "      <td>0</td>\n",
       "      <td>0</td>\n",
       "      <td>0</td>\n",
       "      <td>0</td>\n",
       "      <td>1</td>\n",
       "      <td>1</td>\n",
       "      <td>1</td>\n",
       "      <td>0</td>\n",
       "      <td>1</td>\n",
       "      <td>0</td>\n",
       "    </tr>\n",
       "    <tr>\n",
       "      <th>30854</th>\n",
       "      <td>0</td>\n",
       "      <td>0</td>\n",
       "      <td>0</td>\n",
       "      <td>0</td>\n",
       "      <td>1</td>\n",
       "      <td>1</td>\n",
       "      <td>1</td>\n",
       "      <td>0</td>\n",
       "      <td>1</td>\n",
       "      <td>0</td>\n",
       "    </tr>\n",
       "    <tr>\n",
       "      <th>30855</th>\n",
       "      <td>0</td>\n",
       "      <td>0</td>\n",
       "      <td>0</td>\n",
       "      <td>0</td>\n",
       "      <td>1</td>\n",
       "      <td>1</td>\n",
       "      <td>1</td>\n",
       "      <td>0</td>\n",
       "      <td>1</td>\n",
       "      <td>0</td>\n",
       "    </tr>\n",
       "    <tr>\n",
       "      <th>30856</th>\n",
       "      <td>0</td>\n",
       "      <td>0</td>\n",
       "      <td>0</td>\n",
       "      <td>0</td>\n",
       "      <td>1</td>\n",
       "      <td>1</td>\n",
       "      <td>1</td>\n",
       "      <td>0</td>\n",
       "      <td>1</td>\n",
       "      <td>0</td>\n",
       "    </tr>\n",
       "    <tr>\n",
       "      <th>30857</th>\n",
       "      <td>0</td>\n",
       "      <td>0</td>\n",
       "      <td>0</td>\n",
       "      <td>0</td>\n",
       "      <td>1</td>\n",
       "      <td>1</td>\n",
       "      <td>1</td>\n",
       "      <td>0</td>\n",
       "      <td>1</td>\n",
       "      <td>0</td>\n",
       "    </tr>\n",
       "    <tr>\n",
       "      <th>30858</th>\n",
       "      <td>0</td>\n",
       "      <td>0</td>\n",
       "      <td>0</td>\n",
       "      <td>0</td>\n",
       "      <td>1</td>\n",
       "      <td>1</td>\n",
       "      <td>1</td>\n",
       "      <td>0</td>\n",
       "      <td>1</td>\n",
       "      <td>0</td>\n",
       "    </tr>\n",
       "    <tr>\n",
       "      <th>30859</th>\n",
       "      <td>0</td>\n",
       "      <td>0</td>\n",
       "      <td>0</td>\n",
       "      <td>0</td>\n",
       "      <td>1</td>\n",
       "      <td>1</td>\n",
       "      <td>1</td>\n",
       "      <td>0</td>\n",
       "      <td>1</td>\n",
       "      <td>0</td>\n",
       "    </tr>\n",
       "    <tr>\n",
       "      <th>30860</th>\n",
       "      <td>0</td>\n",
       "      <td>0</td>\n",
       "      <td>0</td>\n",
       "      <td>0</td>\n",
       "      <td>1</td>\n",
       "      <td>1</td>\n",
       "      <td>1</td>\n",
       "      <td>0</td>\n",
       "      <td>1</td>\n",
       "      <td>0</td>\n",
       "    </tr>\n",
       "    <tr>\n",
       "      <th>30861</th>\n",
       "      <td>0</td>\n",
       "      <td>0</td>\n",
       "      <td>0</td>\n",
       "      <td>0</td>\n",
       "      <td>1</td>\n",
       "      <td>1</td>\n",
       "      <td>1</td>\n",
       "      <td>0</td>\n",
       "      <td>1</td>\n",
       "      <td>0</td>\n",
       "    </tr>\n",
       "    <tr>\n",
       "      <th>30862</th>\n",
       "      <td>0</td>\n",
       "      <td>0</td>\n",
       "      <td>0</td>\n",
       "      <td>0</td>\n",
       "      <td>1</td>\n",
       "      <td>1</td>\n",
       "      <td>1</td>\n",
       "      <td>0</td>\n",
       "      <td>1</td>\n",
       "      <td>0</td>\n",
       "    </tr>\n",
       "    <tr>\n",
       "      <th>30863</th>\n",
       "      <td>0</td>\n",
       "      <td>0</td>\n",
       "      <td>0</td>\n",
       "      <td>0</td>\n",
       "      <td>1</td>\n",
       "      <td>1</td>\n",
       "      <td>1</td>\n",
       "      <td>0</td>\n",
       "      <td>1</td>\n",
       "      <td>0</td>\n",
       "    </tr>\n",
       "    <tr>\n",
       "      <th>30864</th>\n",
       "      <td>0</td>\n",
       "      <td>0</td>\n",
       "      <td>0</td>\n",
       "      <td>0</td>\n",
       "      <td>1</td>\n",
       "      <td>1</td>\n",
       "      <td>1</td>\n",
       "      <td>0</td>\n",
       "      <td>1</td>\n",
       "      <td>0</td>\n",
       "    </tr>\n",
       "    <tr>\n",
       "      <th>30865</th>\n",
       "      <td>0</td>\n",
       "      <td>0</td>\n",
       "      <td>0</td>\n",
       "      <td>0</td>\n",
       "      <td>1</td>\n",
       "      <td>1</td>\n",
       "      <td>1</td>\n",
       "      <td>0</td>\n",
       "      <td>1</td>\n",
       "      <td>0</td>\n",
       "    </tr>\n",
       "    <tr>\n",
       "      <th>30866</th>\n",
       "      <td>0</td>\n",
       "      <td>0</td>\n",
       "      <td>0</td>\n",
       "      <td>0</td>\n",
       "      <td>1</td>\n",
       "      <td>1</td>\n",
       "      <td>1</td>\n",
       "      <td>0</td>\n",
       "      <td>1</td>\n",
       "      <td>0</td>\n",
       "    </tr>\n",
       "    <tr>\n",
       "      <th>30867</th>\n",
       "      <td>0</td>\n",
       "      <td>0</td>\n",
       "      <td>0</td>\n",
       "      <td>0</td>\n",
       "      <td>1</td>\n",
       "      <td>1</td>\n",
       "      <td>1</td>\n",
       "      <td>0</td>\n",
       "      <td>1</td>\n",
       "      <td>0</td>\n",
       "    </tr>\n",
       "    <tr>\n",
       "      <th>30868</th>\n",
       "      <td>0</td>\n",
       "      <td>0</td>\n",
       "      <td>0</td>\n",
       "      <td>0</td>\n",
       "      <td>1</td>\n",
       "      <td>1</td>\n",
       "      <td>1</td>\n",
       "      <td>0</td>\n",
       "      <td>1</td>\n",
       "      <td>0</td>\n",
       "    </tr>\n",
       "    <tr>\n",
       "      <th>30869</th>\n",
       "      <td>0</td>\n",
       "      <td>0</td>\n",
       "      <td>0</td>\n",
       "      <td>0</td>\n",
       "      <td>1</td>\n",
       "      <td>1</td>\n",
       "      <td>1</td>\n",
       "      <td>0</td>\n",
       "      <td>1</td>\n",
       "      <td>0</td>\n",
       "    </tr>\n",
       "    <tr>\n",
       "      <th>30870</th>\n",
       "      <td>0</td>\n",
       "      <td>0</td>\n",
       "      <td>0</td>\n",
       "      <td>0</td>\n",
       "      <td>1</td>\n",
       "      <td>1</td>\n",
       "      <td>1</td>\n",
       "      <td>0</td>\n",
       "      <td>1</td>\n",
       "      <td>0</td>\n",
       "    </tr>\n",
       "    <tr>\n",
       "      <th>30871</th>\n",
       "      <td>0</td>\n",
       "      <td>0</td>\n",
       "      <td>0</td>\n",
       "      <td>0</td>\n",
       "      <td>1</td>\n",
       "      <td>1</td>\n",
       "      <td>1</td>\n",
       "      <td>0</td>\n",
       "      <td>1</td>\n",
       "      <td>0</td>\n",
       "    </tr>\n",
       "    <tr>\n",
       "      <th>30872</th>\n",
       "      <td>0</td>\n",
       "      <td>0</td>\n",
       "      <td>0</td>\n",
       "      <td>0</td>\n",
       "      <td>1</td>\n",
       "      <td>1</td>\n",
       "      <td>1</td>\n",
       "      <td>0</td>\n",
       "      <td>1</td>\n",
       "      <td>0</td>\n",
       "    </tr>\n",
       "    <tr>\n",
       "      <th>30873</th>\n",
       "      <td>0</td>\n",
       "      <td>0</td>\n",
       "      <td>0</td>\n",
       "      <td>0</td>\n",
       "      <td>1</td>\n",
       "      <td>1</td>\n",
       "      <td>1</td>\n",
       "      <td>0</td>\n",
       "      <td>1</td>\n",
       "      <td>0</td>\n",
       "    </tr>\n",
       "    <tr>\n",
       "      <th>30874</th>\n",
       "      <td>0</td>\n",
       "      <td>0</td>\n",
       "      <td>0</td>\n",
       "      <td>0</td>\n",
       "      <td>1</td>\n",
       "      <td>0</td>\n",
       "      <td>1</td>\n",
       "      <td>0</td>\n",
       "      <td>1</td>\n",
       "      <td>0</td>\n",
       "    </tr>\n",
       "    <tr>\n",
       "      <th>30875</th>\n",
       "      <td>0</td>\n",
       "      <td>0</td>\n",
       "      <td>0</td>\n",
       "      <td>0</td>\n",
       "      <td>1</td>\n",
       "      <td>0</td>\n",
       "      <td>1</td>\n",
       "      <td>0</td>\n",
       "      <td>1</td>\n",
       "      <td>0</td>\n",
       "    </tr>\n",
       "    <tr>\n",
       "      <th>30876</th>\n",
       "      <td>0</td>\n",
       "      <td>0</td>\n",
       "      <td>0</td>\n",
       "      <td>0</td>\n",
       "      <td>1</td>\n",
       "      <td>0</td>\n",
       "      <td>1</td>\n",
       "      <td>0</td>\n",
       "      <td>1</td>\n",
       "      <td>0</td>\n",
       "    </tr>\n",
       "  </tbody>\n",
       "</table>\n",
       "<p>28857 rows × 10 columns</p>\n",
       "</div>"
      ],
      "text/plain": [
       "         Pain Management  Diabetes  Depression   Weight Loss Programs  \\\n",
       "0                      0         0           0                      0   \n",
       "1                      0         0           0                      0   \n",
       "2                      0         0           0                      0   \n",
       "3                      0         0           0                      0   \n",
       "4                      0         0           0                      0   \n",
       "5                      0         0           0                      0   \n",
       "6                      0         0           0                      0   \n",
       "7                      0         0           0                      0   \n",
       "8                      0         0           0                      0   \n",
       "9                      0         0           0                      0   \n",
       "10                     0         0           0                      0   \n",
       "11                     0         0           0                      0   \n",
       "12                     0         0           0                      0   \n",
       "13                     0         0           0                      0   \n",
       "14                     0         0           0                      0   \n",
       "15                     0         0           0                      0   \n",
       "16                     0         0           0                      0   \n",
       "17                     0         0           0                      0   \n",
       "18                     0         0           0                      0   \n",
       "19                     0         0           0                      0   \n",
       "20                     0         0           0                      0   \n",
       "21                     0         0           0                      0   \n",
       "22                     0         0           0                      0   \n",
       "23                     0         0           0                      0   \n",
       "24                     0         0           0                      0   \n",
       "25                     0         0           0                      0   \n",
       "26                     0         0           0                      0   \n",
       "27                     0         0           0                      0   \n",
       "28                     0         0           0                      0   \n",
       "29                     0         0           0                      0   \n",
       "...                  ...       ...         ...                    ...   \n",
       "30847                  0         0           0                      0   \n",
       "30848                  0         0           0                      0   \n",
       "30849                  0         0           0                      0   \n",
       "30850                  0         0           0                      0   \n",
       "30851                  0         0           0                      0   \n",
       "30852                  0         0           0                      0   \n",
       "30853                  0         0           0                      0   \n",
       "30854                  0         0           0                      0   \n",
       "30855                  0         0           0                      0   \n",
       "30856                  0         0           0                      0   \n",
       "30857                  0         0           0                      0   \n",
       "30858                  0         0           0                      0   \n",
       "30859                  0         0           0                      0   \n",
       "30860                  0         0           0                      0   \n",
       "30861                  0         0           0                      0   \n",
       "30862                  0         0           0                      0   \n",
       "30863                  0         0           0                      0   \n",
       "30864                  0         0           0                      0   \n",
       "30865                  0         0           0                      0   \n",
       "30866                  0         0           0                      0   \n",
       "30867                  0         0           0                      0   \n",
       "30868                  0         0           0                      0   \n",
       "30869                  0         0           0                      0   \n",
       "30870                  0         0           0                      0   \n",
       "30871                  0         0           0                      0   \n",
       "30872                  0         0           0                      0   \n",
       "30873                  0         0           0                      0   \n",
       "30874                  0         0           0                      0   \n",
       "30875                  0         0           0                      0   \n",
       "30876                  0         0           0                      0   \n",
       "\n",
       "        Heart Disease   Pain Management  \\\n",
       "0                   1                 0   \n",
       "1                   1                 0   \n",
       "2                   0                 0   \n",
       "3                   1                 0   \n",
       "4                   1                 0   \n",
       "5                   1                 0   \n",
       "6                   1                 0   \n",
       "7                   1                 0   \n",
       "8                   1                 0   \n",
       "9                   1                 0   \n",
       "10                  1                 0   \n",
       "11                  0                 0   \n",
       "12                  0                 0   \n",
       "13                  0                 0   \n",
       "14                  0                 0   \n",
       "15                  0                 0   \n",
       "16                  0                 0   \n",
       "17                  0                 0   \n",
       "18                  1                 0   \n",
       "19                  1                 0   \n",
       "20                  1                 0   \n",
       "21                  1                 0   \n",
       "22                  1                 0   \n",
       "23                  1                 0   \n",
       "24                  1                 0   \n",
       "25                  1                 0   \n",
       "26                  1                 0   \n",
       "27                  1                 0   \n",
       "28                  1                 0   \n",
       "29                  1                 0   \n",
       "...               ...               ...   \n",
       "30847               1                 1   \n",
       "30848               1                 1   \n",
       "30849               1                 1   \n",
       "30850               1                 1   \n",
       "30851               1                 1   \n",
       "30852               1                 1   \n",
       "30853               1                 1   \n",
       "30854               1                 1   \n",
       "30855               1                 1   \n",
       "30856               1                 1   \n",
       "30857               1                 1   \n",
       "30858               1                 1   \n",
       "30859               1                 1   \n",
       "30860               1                 1   \n",
       "30861               1                 1   \n",
       "30862               1                 1   \n",
       "30863               1                 1   \n",
       "30864               1                 1   \n",
       "30865               1                 1   \n",
       "30866               1                 1   \n",
       "30867               1                 1   \n",
       "30868               1                 1   \n",
       "30869               1                 1   \n",
       "30870               1                 1   \n",
       "30871               1                 1   \n",
       "30872               1                 1   \n",
       "30873               1                 1   \n",
       "30874               1                 0   \n",
       "30875               1                 0   \n",
       "30876               1                 0   \n",
       "\n",
       "        High Blood Pressure & High Cholesterol    Diabetes   Depression  \\\n",
       "0                                            1           0            1   \n",
       "1                                            1           0            1   \n",
       "2                                            0           0            0   \n",
       "3                                            1           0            1   \n",
       "4                                            1           0            1   \n",
       "5                                            1           0            1   \n",
       "6                                            1           0            1   \n",
       "7                                            1           0            1   \n",
       "8                                            1           0            1   \n",
       "9                                            1           0            1   \n",
       "10                                           1           0            1   \n",
       "11                                           0           0            0   \n",
       "12                                           0           0            0   \n",
       "13                                           0           0            0   \n",
       "14                                           0           0            0   \n",
       "15                                           0           0            0   \n",
       "16                                           0           0            0   \n",
       "17                                           0           0            0   \n",
       "18                                           1           0            1   \n",
       "19                                           1           0            1   \n",
       "20                                           1           0            1   \n",
       "21                                           1           0            1   \n",
       "22                                           1           0            1   \n",
       "23                                           1           0            1   \n",
       "24                                           1           0            1   \n",
       "25                                           1           0            1   \n",
       "26                                           1           0            1   \n",
       "27                                           1           0            1   \n",
       "28                                           1           0            1   \n",
       "29                                           1           0            1   \n",
       "...                                        ...         ...          ...   \n",
       "30847                                        1           0            1   \n",
       "30848                                        1           0            1   \n",
       "30849                                        1           0            1   \n",
       "30850                                        1           0            1   \n",
       "30851                                        1           0            1   \n",
       "30852                                        1           0            1   \n",
       "30853                                        1           0            1   \n",
       "30854                                        1           0            1   \n",
       "30855                                        1           0            1   \n",
       "30856                                        1           0            1   \n",
       "30857                                        1           0            1   \n",
       "30858                                        1           0            1   \n",
       "30859                                        1           0            1   \n",
       "30860                                        1           0            1   \n",
       "30861                                        1           0            1   \n",
       "30862                                        1           0            1   \n",
       "30863                                        1           0            1   \n",
       "30864                                        1           0            1   \n",
       "30865                                        1           0            1   \n",
       "30866                                        1           0            1   \n",
       "30867                                        1           0            1   \n",
       "30868                                        1           0            1   \n",
       "30869                                        1           0            1   \n",
       "30870                                        1           0            1   \n",
       "30871                                        1           0            1   \n",
       "30872                                        1           0            1   \n",
       "30873                                        1           0            1   \n",
       "30874                                        1           0            1   \n",
       "30875                                        1           0            1   \n",
       "30876                                        1           0            1   \n",
       "\n",
       "       Heart Disease  \n",
       "0                  0  \n",
       "1                  0  \n",
       "2                  0  \n",
       "3                  0  \n",
       "4                  0  \n",
       "5                  0  \n",
       "6                  0  \n",
       "7                  0  \n",
       "8                  0  \n",
       "9                  0  \n",
       "10                 0  \n",
       "11                 0  \n",
       "12                 0  \n",
       "13                 0  \n",
       "14                 0  \n",
       "15                 0  \n",
       "16                 0  \n",
       "17                 0  \n",
       "18                 0  \n",
       "19                 0  \n",
       "20                 0  \n",
       "21                 0  \n",
       "22                 0  \n",
       "23                 0  \n",
       "24                 0  \n",
       "25                 0  \n",
       "26                 0  \n",
       "27                 0  \n",
       "28                 0  \n",
       "29                 0  \n",
       "...              ...  \n",
       "30847              0  \n",
       "30848              0  \n",
       "30849              0  \n",
       "30850              0  \n",
       "30851              0  \n",
       "30852              0  \n",
       "30853              0  \n",
       "30854              0  \n",
       "30855              0  \n",
       "30856              0  \n",
       "30857              0  \n",
       "30858              0  \n",
       "30859              0  \n",
       "30860              0  \n",
       "30861              0  \n",
       "30862              0  \n",
       "30863              0  \n",
       "30864              0  \n",
       "30865              0  \n",
       "30866              0  \n",
       "30867              0  \n",
       "30868              0  \n",
       "30869              0  \n",
       "30870              0  \n",
       "30871              0  \n",
       "30872              0  \n",
       "30873              0  \n",
       "30874              0  \n",
       "30875              0  \n",
       "30876              0  \n",
       "\n",
       "[28857 rows x 10 columns]"
      ]
     },
     "execution_count": 50,
     "metadata": {},
     "output_type": "execute_result"
    }
   ],
   "source": [
    "padf4 = pd.concat([padftest,plantypedf], axis=1)"
   ]
  },
  {
   "cell_type": "code",
   "execution_count": 149,
   "metadata": {
    "collapsed": false
   },
   "outputs": [
    {
     "data": {
      "text/html": [
       "<div>\n",
       "<table border=\"1\" class=\"dataframe\">\n",
       "  <thead>\n",
       "    <tr style=\"text-align: right;\">\n",
       "      <th></th>\n",
       "      <th>issueractuarialvalue</th>\n",
       "      <th>csrvariationtype</th>\n",
       "      <th>dentalonlyplan</th>\n",
       "      <th>diseasemanagementprogramsoffered</th>\n",
       "      <th>firsttierutilization</th>\n",
       "      <th>ishsaeligible</th>\n",
       "      <th>isnewplan</th>\n",
       "      <th>isnoticerequiredforpregnancy</th>\n",
       "      <th>isreferralrequiredforspecialist</th>\n",
       "      <th>marketcoverage</th>\n",
       "      <th>medicaldrugdeductiblesintegrated</th>\n",
       "      <th>medicaldrugmaximumoutofpocketintegrated</th>\n",
       "      <th>metallevel</th>\n",
       "      <th>planid</th>\n",
       "      <th>plantype</th>\n",
       "      <th>statecode</th>\n",
       "      <th>wellnessprogramoffered</th>\n",
       "    </tr>\n",
       "  </thead>\n",
       "  <tbody>\n",
       "    <tr>\n",
       "      <th>0</th>\n",
       "      <td>70.11</td>\n",
       "      <td>Limited Cost Sharing Plan Variation</td>\n",
       "      <td>No</td>\n",
       "      <td>[Asthma,  Heart Disease,  Depression,  Diabete...</td>\n",
       "      <td>100.0</td>\n",
       "      <td>No</td>\n",
       "      <td>New</td>\n",
       "      <td>No</td>\n",
       "      <td>No</td>\n",
       "      <td>Individual</td>\n",
       "      <td>No</td>\n",
       "      <td>Yes</td>\n",
       "      <td>Silver</td>\n",
       "      <td>30751MT0550004-03</td>\n",
       "      <td>PPO</td>\n",
       "      <td>MT</td>\n",
       "      <td>Yes</td>\n",
       "    </tr>\n",
       "    <tr>\n",
       "      <th>1</th>\n",
       "      <td>73.02</td>\n",
       "      <td>73% AV Level Silver Plan</td>\n",
       "      <td>No</td>\n",
       "      <td>[Asthma,  Heart Disease,  Depression,  Diabete...</td>\n",
       "      <td>100.0</td>\n",
       "      <td>No</td>\n",
       "      <td>New</td>\n",
       "      <td>No</td>\n",
       "      <td>No</td>\n",
       "      <td>Individual</td>\n",
       "      <td>No</td>\n",
       "      <td>Yes</td>\n",
       "      <td>Silver</td>\n",
       "      <td>30751MT0550004-04</td>\n",
       "      <td>PPO</td>\n",
       "      <td>MT</td>\n",
       "      <td>Yes</td>\n",
       "    </tr>\n",
       "    <tr>\n",
       "      <th>2</th>\n",
       "      <td>74.00</td>\n",
       "      <td>73% AV Level Silver Plan</td>\n",
       "      <td>No</td>\n",
       "      <td>[Asthma,  Diabetes]</td>\n",
       "      <td>100.0</td>\n",
       "      <td>No</td>\n",
       "      <td>New</td>\n",
       "      <td>No</td>\n",
       "      <td>No</td>\n",
       "      <td>Individual</td>\n",
       "      <td>No</td>\n",
       "      <td>Yes</td>\n",
       "      <td>Silver</td>\n",
       "      <td>15438NE0170002-04</td>\n",
       "      <td>HMO</td>\n",
       "      <td>NE</td>\n",
       "      <td>Yes</td>\n",
       "    </tr>\n",
       "    <tr>\n",
       "      <th>3</th>\n",
       "      <td>100.00</td>\n",
       "      <td>Zero Cost Sharing Plan Variation</td>\n",
       "      <td>No</td>\n",
       "      <td>[Asthma,  Heart Disease,  Depression,  Diabete...</td>\n",
       "      <td>100.0</td>\n",
       "      <td>No</td>\n",
       "      <td>New</td>\n",
       "      <td>No</td>\n",
       "      <td>No</td>\n",
       "      <td>Individual</td>\n",
       "      <td>No</td>\n",
       "      <td>Yes</td>\n",
       "      <td>Silver</td>\n",
       "      <td>30751MT0570003-02</td>\n",
       "      <td>PPO</td>\n",
       "      <td>MT</td>\n",
       "      <td>Yes</td>\n",
       "    </tr>\n",
       "    <tr>\n",
       "      <th>4</th>\n",
       "      <td>70.79</td>\n",
       "      <td>Standard Silver Off Exchange Plan</td>\n",
       "      <td>No</td>\n",
       "      <td>[Asthma,  Heart Disease,  Depression,  Diabete...</td>\n",
       "      <td>100.0</td>\n",
       "      <td>No</td>\n",
       "      <td>New</td>\n",
       "      <td>No</td>\n",
       "      <td>No</td>\n",
       "      <td>Individual</td>\n",
       "      <td>No</td>\n",
       "      <td>Yes</td>\n",
       "      <td>Silver</td>\n",
       "      <td>30751MT0550003-00</td>\n",
       "      <td>PPO</td>\n",
       "      <td>MT</td>\n",
       "      <td>Yes</td>\n",
       "    </tr>\n",
       "  </tbody>\n",
       "</table>\n",
       "</div>"
      ],
      "text/plain": [
       "   issueractuarialvalue                     csrvariationtype dentalonlyplan  \\\n",
       "0                 70.11  Limited Cost Sharing Plan Variation             No   \n",
       "1                 73.02             73% AV Level Silver Plan             No   \n",
       "2                 74.00             73% AV Level Silver Plan             No   \n",
       "3                100.00     Zero Cost Sharing Plan Variation             No   \n",
       "4                 70.79    Standard Silver Off Exchange Plan             No   \n",
       "\n",
       "                    diseasemanagementprogramsoffered  firsttierutilization  \\\n",
       "0  [Asthma,  Heart Disease,  Depression,  Diabete...                 100.0   \n",
       "1  [Asthma,  Heart Disease,  Depression,  Diabete...                 100.0   \n",
       "2                                [Asthma,  Diabetes]                 100.0   \n",
       "3  [Asthma,  Heart Disease,  Depression,  Diabete...                 100.0   \n",
       "4  [Asthma,  Heart Disease,  Depression,  Diabete...                 100.0   \n",
       "\n",
       "  ishsaeligible isnewplan isnoticerequiredforpregnancy  \\\n",
       "0            No       New                           No   \n",
       "1            No       New                           No   \n",
       "2            No       New                           No   \n",
       "3            No       New                           No   \n",
       "4            No       New                           No   \n",
       "\n",
       "  isreferralrequiredforspecialist marketcoverage  \\\n",
       "0                              No     Individual   \n",
       "1                              No     Individual   \n",
       "2                              No     Individual   \n",
       "3                              No     Individual   \n",
       "4                              No     Individual   \n",
       "\n",
       "  medicaldrugdeductiblesintegrated medicaldrugmaximumoutofpocketintegrated  \\\n",
       "0                               No                                     Yes   \n",
       "1                               No                                     Yes   \n",
       "2                               No                                     Yes   \n",
       "3                               No                                     Yes   \n",
       "4                               No                                     Yes   \n",
       "\n",
       "  metallevel             planid plantype statecode wellnessprogramoffered  \n",
       "0     Silver  30751MT0550004-03      PPO        MT                    Yes  \n",
       "1     Silver  30751MT0550004-04      PPO        MT                    Yes  \n",
       "2     Silver  15438NE0170002-04      HMO        NE                    Yes  \n",
       "3     Silver  30751MT0570003-02      PPO        MT                    Yes  \n",
       "4     Silver  30751MT0550003-00      PPO        MT                    Yes  "
      ]
     },
     "execution_count": 149,
     "metadata": {},
     "output_type": "execute_result"
    }
   ],
   "source": [
    "planattmeddf.iloc[:5,:17]"
   ]
  },
  {
   "cell_type": "code",
   "execution_count": 148,
   "metadata": {
    "collapsed": false,
    "scrolled": false
   },
   "outputs": [
    {
     "data": {
      "text/html": [
       "<div>\n",
       "<table border=\"1\" class=\"dataframe\">\n",
       "  <thead>\n",
       "    <tr style=\"text-align: right;\">\n",
       "      <th></th>\n",
       "      <th>Depression</th>\n",
       "      <th>Weight Loss Programs</th>\n",
       "      <th>High Blood Pressure &amp; High Cholesterol</th>\n",
       "      <th>Pain Management</th>\n",
       "      <th>Heart Disease</th>\n",
       "      <th>Low Back Pain</th>\n",
       "      <th>Heart Disease</th>\n",
       "      <th>Pain Management</th>\n",
       "      <th>Depression</th>\n",
       "      <th>combdiabetes</th>\n",
       "      <th>combPregnancy</th>\n",
       "      <th>combAsthma</th>\n",
       "    </tr>\n",
       "  </thead>\n",
       "  <tbody>\n",
       "    <tr>\n",
       "      <th>0</th>\n",
       "      <td>1</td>\n",
       "      <td>0</td>\n",
       "      <td>1</td>\n",
       "      <td>0</td>\n",
       "      <td>0</td>\n",
       "      <td>1</td>\n",
       "      <td>1</td>\n",
       "      <td>0</td>\n",
       "      <td>0</td>\n",
       "      <td>1</td>\n",
       "      <td>1</td>\n",
       "      <td>1</td>\n",
       "    </tr>\n",
       "    <tr>\n",
       "      <th>1</th>\n",
       "      <td>1</td>\n",
       "      <td>0</td>\n",
       "      <td>1</td>\n",
       "      <td>0</td>\n",
       "      <td>0</td>\n",
       "      <td>1</td>\n",
       "      <td>1</td>\n",
       "      <td>0</td>\n",
       "      <td>0</td>\n",
       "      <td>1</td>\n",
       "      <td>1</td>\n",
       "      <td>1</td>\n",
       "    </tr>\n",
       "    <tr>\n",
       "      <th>2</th>\n",
       "      <td>0</td>\n",
       "      <td>0</td>\n",
       "      <td>0</td>\n",
       "      <td>0</td>\n",
       "      <td>0</td>\n",
       "      <td>0</td>\n",
       "      <td>0</td>\n",
       "      <td>0</td>\n",
       "      <td>0</td>\n",
       "      <td>1</td>\n",
       "      <td>0</td>\n",
       "      <td>1</td>\n",
       "    </tr>\n",
       "    <tr>\n",
       "      <th>3</th>\n",
       "      <td>1</td>\n",
       "      <td>0</td>\n",
       "      <td>1</td>\n",
       "      <td>0</td>\n",
       "      <td>0</td>\n",
       "      <td>1</td>\n",
       "      <td>1</td>\n",
       "      <td>0</td>\n",
       "      <td>0</td>\n",
       "      <td>1</td>\n",
       "      <td>1</td>\n",
       "      <td>1</td>\n",
       "    </tr>\n",
       "    <tr>\n",
       "      <th>4</th>\n",
       "      <td>1</td>\n",
       "      <td>0</td>\n",
       "      <td>1</td>\n",
       "      <td>0</td>\n",
       "      <td>0</td>\n",
       "      <td>1</td>\n",
       "      <td>1</td>\n",
       "      <td>0</td>\n",
       "      <td>0</td>\n",
       "      <td>1</td>\n",
       "      <td>1</td>\n",
       "      <td>1</td>\n",
       "    </tr>\n",
       "  </tbody>\n",
       "</table>\n",
       "</div>"
      ],
      "text/plain": [
       "    Depression   Weight Loss Programs  \\\n",
       "0            1                      0   \n",
       "1            1                      0   \n",
       "2            0                      0   \n",
       "3            1                      0   \n",
       "4            1                      0   \n",
       "\n",
       "    High Blood Pressure & High Cholesterol   Pain Management  Heart Disease  \\\n",
       "0                                        1                 0              0   \n",
       "1                                        1                 0              0   \n",
       "2                                        0                 0              0   \n",
       "3                                        1                 0              0   \n",
       "4                                        1                 0              0   \n",
       "\n",
       "    Low Back Pain   Heart Disease    Pain Management  Depression  \\\n",
       "0               1               1                  0           0   \n",
       "1               1               1                  0           0   \n",
       "2               0               0                  0           0   \n",
       "3               1               1                  0           0   \n",
       "4               1               1                  0           0   \n",
       "\n",
       "   combdiabetes  combPregnancy  combAsthma  \n",
       "0             1              1           1  \n",
       "1             1              1           1  \n",
       "2             1              0           1  \n",
       "3             1              1           1  \n",
       "4             1              1           1  "
      ]
     },
     "execution_count": 148,
     "metadata": {},
     "output_type": "execute_result"
    }
   ],
   "source": [
    "planattmeddf.iloc[:5,17:]"
   ]
  },
  {
   "cell_type": "markdown",
   "metadata": {},
   "source": [
    "Cleaning of duplicate columns"
   ]
  },
  {
   "cell_type": "code",
   "execution_count": 40,
   "metadata": {
    "collapsed": false
   },
   "outputs": [],
   "source": [
    "y = padf4['metallevel']"
   ]
  },
  {
   "cell_type": "code",
   "execution_count": 94,
   "metadata": {
    "collapsed": false
   },
   "outputs": [],
   "source": [
    "X = padf4.drop(['metallevel', 'ishsaeligible', 'isnewplan', 'isnoticerequiredforpregnancy','issueractuarialvalue', 'isreferralrequiredforspecialist', 'marketcoverage', 'medicaldrugdeductiblesintegrated', 'medicaldrugmaximumoutofpocketintegrated','planid', 'plantype','statecode', ' Asthma','Asthma',' Diabetes','Diabetes','  Diabetes',' Pregnancy','Pregnancy','wellnessprogramoffered','diseasemanagementprogramsoffered', 'dentalonlyplan', 'csrvariationtype'],axis=1)"
   ]
  },
  {
   "cell_type": "code",
   "execution_count": 76,
   "metadata": {
    "collapsed": false,
    "scrolled": true
   },
   "outputs": [
    {
     "data": {
      "text/plain": [
       "array([1, 0, 2])"
      ]
     },
     "execution_count": 76,
     "metadata": {},
     "output_type": "execute_result"
    }
   ],
   "source": [
    "X.combAsthma.unique()"
   ]
  },
  {
   "cell_type": "code",
   "execution_count": 95,
   "metadata": {
    "collapsed": false
   },
   "outputs": [],
   "source": [
    "X.combAsthma = X.combAsthma.replace(2,1)"
   ]
  },
  {
   "cell_type": "code",
   "execution_count": 96,
   "metadata": {
    "collapsed": false
   },
   "outputs": [],
   "source": [
    "X['combHeartDisease'] = X[' Heart Disease']+X['Heart Disease']"
   ]
  },
  {
   "cell_type": "code",
   "execution_count": 99,
   "metadata": {
    "collapsed": true
   },
   "outputs": [],
   "source": [
    "X['combDepression'] = X[' Depression']+X['Depression']"
   ]
  },
  {
   "cell_type": "code",
   "execution_count": 104,
   "metadata": {
    "collapsed": true
   },
   "outputs": [],
   "source": [
    "X['combPainManagement'] = X['  Pain Management']+X[' Pain Management']"
   ]
  },
  {
   "cell_type": "code",
   "execution_count": 115,
   "metadata": {
    "collapsed": true
   },
   "outputs": [],
   "source": [
    "X['combPlatOnCSR'] = X['Standard Platinum  On Exchange Plan']+X['Standard Platinum On Exchange Plan']"
   ]
  },
  {
   "cell_type": "code",
   "execution_count": 116,
   "metadata": {
    "collapsed": false,
    "scrolled": true
   },
   "outputs": [
    {
     "data": {
      "text/plain": [
       "0    28252\n",
       "1      605\n",
       "Name: combPlatOnCSR, dtype: int64"
      ]
     },
     "execution_count": 116,
     "metadata": {},
     "output_type": "execute_result"
    }
   ],
   "source": [
    "X.combPlatOnCSR.value_counts()"
   ]
  },
  {
   "cell_type": "code",
   "execution_count": 101,
   "metadata": {
    "collapsed": true
   },
   "outputs": [],
   "source": [
    "X = X.drop([' Heart Disease','Heart Disease',' Depression','Depression'], axis=1)"
   ]
  },
  {
   "cell_type": "code",
   "execution_count": 107,
   "metadata": {
    "collapsed": true
   },
   "outputs": [],
   "source": [
    "X = X.drop(['  Pain Management',' Pain Management'], axis=1)"
   ]
  },
  {
   "cell_type": "code",
   "execution_count": 120,
   "metadata": {
    "collapsed": false
   },
   "outputs": [],
   "source": [
    "X = X.drop(['Standard Platinum  On Exchange Plan','Standard Platinum On Exchange Plan'],axis=1)"
   ]
  },
  {
   "cell_type": "code",
   "execution_count": 135,
   "metadata": {
    "collapsed": false
   },
   "outputs": [],
   "source": [
    "X.columns = ['firsttierutilization', ' Weight Loss Programs',\n",
    "       ' High Blood Pressure & High Cholesterol', ' Low Back Pain',\n",
    "       'combdiabetes', 'combPregnancy', 'combAsthma',\n",
    "       '73% AV Level Silver Plan', '87% AV Level Silver Plan',\n",
    "       '94% AV Level Silver Plan', 'Limited Cost Sharing Plan Variation',\n",
    "       'Standard Bronze Off Exchange Plan', 'Standard Bronze On Exchange Plan',\n",
    "       'Standard Gold Off Exchange Plan', 'Standard Gold On Exchange Plan',\n",
    "       'Standard Platinum Off Exchange Plan',\n",
    "       'Standard Silver Off Exchange Plan', 'Standard Silver On Exchange Plan',\n",
    "       'Zero Cost Sharing Plan Variation','IsHsaEligNo','IsHsaEligYes', 'IsNewPlanExisting', 'IsNewPlanNew',\n",
    "       'IsPregNo','IsPregYes','IsSpecialistNo','IsSpecialistYes', 'MrktCvrgIndividual', 'MrktCvrgSHOP',\n",
    "     'DeductiblesIntegratedNo','DeductiblesIntegratedYes','MOOPIntegratedNo','MOOPIntegratedYes', 'PlanTypeEPO', 'PlanTypeHMO',\n",
    "     'PlanTypePOS', 'PlanTypePPO', 'combHeartDisease',\n",
    "       'combDepression', 'combPainManagement', 'combPlatOnCSR']"
   ]
  },
  {
   "cell_type": "markdown",
   "metadata": {},
   "source": [
    "#### First train, test split"
   ]
  },
  {
   "cell_type": "code",
   "execution_count": 123,
   "metadata": {
    "collapsed": true
   },
   "outputs": [],
   "source": [
    "X_test, X_train, y_test, y_train = train_test_split(X,y, test_size=0.3)"
   ]
  },
  {
   "cell_type": "code",
   "execution_count": null,
   "metadata": {
    "collapsed": true
   },
   "outputs": [],
   "source": [
    "lgr = LogisticRegression()\n",
    "lgr.fit(X_train, y_train)\n",
    "lgrpred = lgr.predict(X_test)\n",
    "print(classification_report(y_test, lgrpred))"
   ]
  },
  {
   "cell_type": "markdown",
   "metadata": {},
   "source": [
    "#### Fixing Data leakage caused by features directly correlated to metal level of plans"
   ]
  },
  {
   "cell_type": "code",
   "execution_count": 151,
   "metadata": {
    "collapsed": true
   },
   "outputs": [],
   "source": [
    "X2 = X.drop(['73% AV Level Silver Plan', '87% AV Level Silver Plan',\n",
    "       '94% AV Level Silver Plan', 'Limited Cost Sharing Plan Variation',\n",
    "       'Standard Bronze Off Exchange Plan', 'Standard Bronze On Exchange Plan',\n",
    "       'Standard Gold Off Exchange Plan', 'Standard Gold On Exchange Plan',\n",
    "       'Standard Platinum Off Exchange Plan',\n",
    "       'Standard Silver Off Exchange Plan', 'Standard Silver On Exchange Plan',\n",
    "       'Zero Cost Sharing Plan Variation','combPlatOnCSR'], axis=1)"
   ]
  },
  {
   "cell_type": "code",
   "execution_count": 152,
   "metadata": {
    "collapsed": false,
    "scrolled": true
   },
   "outputs": [
    {
     "data": {
      "text/plain": [
       "Index(['firsttierutilization', ' Weight Loss Programs',\n",
       "       ' High Blood Pressure & High Cholesterol', ' Low Back Pain',\n",
       "       'combdiabetes', 'combPregnancy', 'combAsthma', 'IsHsaEligNo',\n",
       "       'IsHsaEligYes', 'IsNewPlanExisting', 'IsNewPlanNew', 'IsPregNo',\n",
       "       'IsPregYes', 'IsSpecialistNo', 'IsSpecialistYes', 'MrktCvrgIndividual',\n",
       "       'MrktCvrgSHOP', 'DeductiblesIntegratedNo', 'DeductiblesIntegratedYes',\n",
       "       'MOOPIntegratedNo', 'MOOPIntegratedYes', 'PlanTypeEPO', 'PlanTypeHMO',\n",
       "       'PlanTypePOS', 'PlanTypePPO', 'combHeartDisease', 'combDepression',\n",
       "       'combPainManagement'],\n",
       "      dtype='object')"
      ]
     },
     "execution_count": 152,
     "metadata": {},
     "output_type": "execute_result"
    }
   ],
   "source": [
    "X2.columns"
   ]
  },
  {
   "cell_type": "code",
   "execution_count": 153,
   "metadata": {
    "collapsed": true
   },
   "outputs": [],
   "source": [
    "X_test2, X_train2, y_test2, y_train2 = train_test_split(X2,y, test_size=0.3)"
   ]
  },
  {
   "cell_type": "code",
   "execution_count": 154,
   "metadata": {
    "collapsed": false,
    "scrolled": false
   },
   "outputs": [
    {
     "name": "stdout",
     "output_type": "stream",
     "text": [
      "             precision    recall  f1-score   support\n",
      "\n",
      "     Bronze       0.54      0.35      0.42      4020\n",
      "       Gold       0.45      0.14      0.21      4319\n",
      "   Platinum       0.27      0.03      0.05      1141\n",
      "     Silver       0.57      0.87      0.69     10719\n",
      "\n",
      "avg / total       0.52      0.56      0.50     20199\n",
      "\n"
     ]
    }
   ],
   "source": [
    "lgr = LogisticRegression()\n",
    "lgr.fit(X_train2, y_train2)\n",
    "lgrpred2 = lgr.predict(X_test2)\n",
    "print(classification_report(y_test2, lgrpred))"
   ]
  },
  {
   "cell_type": "markdown",
   "metadata": {},
   "source": [
    "### Preliminary Results with Data leakage and Initial Exploration"
   ]
  },
  {
   "cell_type": "code",
   "execution_count": 155,
   "metadata": {
    "collapsed": false
   },
   "outputs": [
    {
     "name": "stdout",
     "output_type": "stream",
     "text": [
      "F1 Score for Final Logistic Regression Model: 0.388752730363\n"
     ]
    }
   ],
   "source": [
    "logrf2 = f1_score(y_test, lgrpred, average = 'weighted')\n",
    "print('F1 Score for Final Logistic Regression Model:', logrf2)"
   ]
  },
  {
   "cell_type": "code",
   "execution_count": 126,
   "metadata": {
    "collapsed": false,
    "scrolled": true
   },
   "outputs": [
    {
     "name": "stdout",
     "output_type": "stream",
     "text": [
      "             precision    recall  f1-score   support\n",
      "\n",
      "     Bronze       0.77      0.81      0.79      4019\n",
      "       Gold       0.97      0.62      0.76      4348\n",
      "   Platinum       0.99      0.72      0.83      1150\n",
      "     Silver       0.81      0.93      0.86     10682\n",
      "\n",
      "avg / total       0.84      0.83      0.82     20199\n",
      "\n"
     ]
    }
   ],
   "source": [
    "from sklearn.metrics import classification_report\n",
    "print(classification_report(y_test, logrpredfinal))"
   ]
  },
  {
   "cell_type": "code",
   "execution_count": 124,
   "metadata": {
    "collapsed": false,
    "scrolled": true
   },
   "outputs": [
    {
     "data": {
      "text/plain": [
       "LogisticRegression(C=1.0, class_weight=None, dual=False, fit_intercept=True,\n",
       "          intercept_scaling=1, max_iter=100, multi_class='ovr', n_jobs=1,\n",
       "          penalty='l2', random_state=None, solver='liblinear', tol=0.0001,\n",
       "          verbose=0, warm_start=False)"
      ]
     },
     "execution_count": 124,
     "metadata": {},
     "output_type": "execute_result"
    }
   ],
   "source": [
    "logr.fit(X_train, y_train)"
   ]
  },
  {
   "cell_type": "code",
   "execution_count": 125,
   "metadata": {
    "collapsed": false
   },
   "outputs": [
    {
     "name": "stdout",
     "output_type": "stream",
     "text": [
      "F1 Score for Final Logistic Regression Model: 0.823878292843\n"
     ]
    }
   ],
   "source": [
    "logrpredfinal = logr.predict(X_test)\n",
    "logrf1 = f1_score(y_test, logrpredfinal, average = 'weighted')\n",
    "print('F1 Score for Final Logistic Regression Model:', logrf1)"
   ]
  },
  {
   "cell_type": "code",
   "execution_count": 63,
   "metadata": {
    "collapsed": true
   },
   "outputs": [],
   "source": [
    "from sklearn.externals import joblib"
   ]
  },
  {
   "cell_type": "code",
   "execution_count": 156,
   "metadata": {
    "collapsed": false
   },
   "outputs": [
    {
     "data": {
      "text/plain": [
       "['HealthInsuranceLogRFinal5.pkl']"
      ]
     },
     "execution_count": 156,
     "metadata": {},
     "output_type": "execute_result"
    }
   ],
   "source": [
    "joblib.dump(lgr, 'HealthInsuranceLogRFinal5.pkl')"
   ]
  },
  {
   "cell_type": "code",
   "execution_count": 43,
   "metadata": {
    "collapsed": true
   },
   "outputs": [],
   "source": [
    "rfclass = RandomForestClassifier()\n",
    "logr = LogisticRegression()\n",
    "dtclass = DecisionTreeClassifier()\n",
    "knncl = KNeighborsClassifier()\n",
    "gnb = GaussianNB()\n",
    "\n",
    "model_list = [rfclass,dtclass,logr,knncl,gnb]"
   ]
  },
  {
   "cell_type": "code",
   "execution_count": 309,
   "metadata": {
    "collapsed": false
   },
   "outputs": [
    {
     "name": "stdout",
     "output_type": "stream",
     "text": [
      "Score for RandomForestClassifier : 0.816525570573\n",
      "Accuracy for RandomForestClassifier : 0.816525570573\n",
      "Precision for RandomForestClassifier : 0.817058874047\n",
      "Recall for RandomForestClassifier : 0.816525570573\n",
      "F1 for RandomForestClassifier : 0.815792839444\n",
      "Score for DecisionTreeClassifier : 0.817862270409\n",
      "Accuracy for DecisionTreeClassifier : 0.817862270409\n",
      "Precision for DecisionTreeClassifier : 0.821443888048\n",
      "Recall for DecisionTreeClassifier : 0.817862270409\n",
      "F1 for DecisionTreeClassifier : 0.819024136794\n",
      "Score for LogisticRegression(C=1 : 0.829843061538\n",
      "Accuracy for LogisticRegression(C=1 : 0.829843061538\n",
      "Precision for LogisticRegression(C=1 : 0.844515484698\n",
      "Recall for LogisticRegression(C=1 : 0.829843061538\n",
      "F1 for LogisticRegression(C=1 : 0.826095246609\n",
      "Score for KNeighborsClassifier(a : 0.753156096836\n",
      "Accuracy for KNeighborsClassifier(a : 0.753156096836\n",
      "Precision for KNeighborsClassifier(a : 0.75602480342\n",
      "Recall for KNeighborsClassifier(a : 0.753156096836\n",
      "F1 for KNeighborsClassifier(a : 0.752176447731\n",
      "Score for GaussianNB(priors=None : 0.784444774494\n",
      "Accuracy for GaussianNB(priors=None : 0.784444774494\n",
      "Precision for GaussianNB(priors=None : 0.863729815174\n",
      "Recall for GaussianNB(priors=None : 0.784444774494\n",
      "F1 for GaussianNB(priors=None : 0.800158740585\n"
     ]
    }
   ],
   "source": [
    "#padf4 metrics includes ishsaeligible\n",
    "get_metrics(model_list,X,y)"
   ]
  },
  {
   "cell_type": "code",
   "execution_count": 188,
   "metadata": {
    "collapsed": false,
    "scrolled": true
   },
   "outputs": [
    {
     "data": {
      "text/plain": [
       "RandomForestClassifier(bootstrap=True, class_weight=None, criterion='gini',\n",
       "            max_depth=None, max_features='auto', max_leaf_nodes=None,\n",
       "            min_impurity_split=1e-07, min_samples_leaf=1,\n",
       "            min_samples_split=2, min_weight_fraction_leaf=0.0,\n",
       "            n_estimators=10, n_jobs=1, oob_score=False, random_state=None,\n",
       "            verbose=0, warm_start=False)"
      ]
     },
     "execution_count": 188,
     "metadata": {},
     "output_type": "execute_result"
    }
   ],
   "source": [
    "rfclass.fit(X_train, y_train)"
   ]
  },
  {
   "cell_type": "code",
   "execution_count": 189,
   "metadata": {
    "collapsed": false
   },
   "outputs": [
    {
     "data": {
      "text/plain": [
       "0.53126392395663147"
      ]
     },
     "execution_count": 189,
     "metadata": {},
     "output_type": "execute_result"
    }
   ],
   "source": [
    "rfclass.score(X_test, y_test)"
   ]
  },
  {
   "cell_type": "code",
   "execution_count": 143,
   "metadata": {
    "collapsed": false
   },
   "outputs": [],
   "source": [
    "planattmeddf = planattmeddf.drop(['Asthma', ' Asthma','Pregnancy','  Diabetes', 'Diabetes',' Diabetes',' Pregnancy'], axis=1)"
   ]
  },
  {
   "cell_type": "code",
   "execution_count": 165,
   "metadata": {
    "collapsed": false
   },
   "outputs": [
    {
     "data": {
      "image/png": "[encoded data removed]",
      "text/plain": [
       "<matplotlib.figure.Figure at 0x122f807f0>"
      ]
     },
     "metadata": {},
     "output_type": "display_data"
    }
   ],
   "source": [
    "plt.hist(planattmeddf[planattmeddf['metallevel']=='Platinum'].issueractuarialvalue, bins=10)\n",
    "plt.show()"
   ]
  },
  {
   "cell_type": "code",
   "execution_count": 156,
   "metadata": {
    "collapsed": false
   },
   "outputs": [
    {
     "data": {
      "image/png": "[encoded data removed]",
      "text/plain": [
       "<matplotlib.figure.Figure at 0x123083400>"
      ]
     },
     "metadata": {},
     "output_type": "display_data"
    }
   ],
   "source": [
    "plt.hist(planattmeddf.issueractuarialvalue,bins=10)\n",
    "plt.show()"
   ]
  }
 ],
 "metadata": {
  "kernelspec": {
   "display_name": "Python 3",
   "language": "python",
   "name": "python3"
  },
  "language_info": {
   "codemirror_mode": {
    "name": "ipython",
    "version": 3
   },
   "file_extension": ".py",
   "mimetype": "text/x-python",
   "name": "python",
   "nbconvert_exporter": "python",
   "pygments_lexer": "ipython3",
   "version": "3.6.0"
  }
 },
 "nbformat": 4,
 "nbformat_minor": 2
}
